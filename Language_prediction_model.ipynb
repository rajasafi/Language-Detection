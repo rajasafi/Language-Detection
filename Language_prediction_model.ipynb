{
  "cells": [
    {
      "cell_type": "markdown",
      "metadata": {
        "id": "view-in-github",
        "colab_type": "text"
      },
      "source": [
        "<a href=\"https://colab.research.google.com/github/rajasafi/Language-Detection/blob/main/Language_prediction_model.ipynb\" target=\"_parent\"><img src=\"https://colab.research.google.com/assets/colab-badge.svg\" alt=\"Open In Colab\"/></a>"
      ]
    },
    {
      "cell_type": "code",
      "execution_count": null,
      "metadata": {
        "id": "mqRwQfdgOBNu"
      },
      "outputs": [],
      "source": [
        "import string\n",
        "import numpy as np\n",
        "import pandas as pd\n",
        "import matplotlib.pyplot as plt\n",
        "import re\n",
        "import seaborn as sns"
      ]
    },
    {
      "cell_type": "code",
      "execution_count": null,
      "metadata": {
        "colab": {
          "base_uri": "https://localhost:8080/",
          "height": 206
        },
        "id": "oO8Q3rPzPAqZ",
        "outputId": "cd797593-c0b1-4f64-de34-adc8bdd2e2c6"
      },
      "outputs": [
        {
          "data": {
            "text/html": [
              "\n",
              "  <div id=\"df-c0ad6c53-d4e5-413c-9ce4-0fe74567de94\">\n",
              "    <div class=\"colab-df-container\">\n",
              "      <div>\n",
              "<style scoped>\n",
              "    .dataframe tbody tr th:only-of-type {\n",
              "        vertical-align: middle;\n",
              "    }\n",
              "\n",
              "    .dataframe tbody tr th {\n",
              "        vertical-align: top;\n",
              "    }\n",
              "\n",
              "    .dataframe thead th {\n",
              "        text-align: right;\n",
              "    }\n",
              "</style>\n",
              "<table border=\"1\" class=\"dataframe\">\n",
              "  <thead>\n",
              "    <tr style=\"text-align: right;\">\n",
              "      <th></th>\n",
              "      <th>Text</th>\n",
              "      <th>Language</th>\n",
              "    </tr>\n",
              "  </thead>\n",
              "  <tbody>\n",
              "    <tr>\n",
              "      <th>0</th>\n",
              "      <td>Nature, in the broadest sense, is the natural...</td>\n",
              "      <td>English</td>\n",
              "    </tr>\n",
              "    <tr>\n",
              "      <th>1</th>\n",
              "      <td>\"Nature\" can refer to the phenomena of the phy...</td>\n",
              "      <td>English</td>\n",
              "    </tr>\n",
              "    <tr>\n",
              "      <th>2</th>\n",
              "      <td>The study of nature is a large, if not the onl...</td>\n",
              "      <td>English</td>\n",
              "    </tr>\n",
              "    <tr>\n",
              "      <th>3</th>\n",
              "      <td>Although humans are part of nature, human acti...</td>\n",
              "      <td>English</td>\n",
              "    </tr>\n",
              "    <tr>\n",
              "      <th>4</th>\n",
              "      <td>[1] The word nature is borrowed from the Old F...</td>\n",
              "      <td>English</td>\n",
              "    </tr>\n",
              "  </tbody>\n",
              "</table>\n",
              "</div>\n",
              "      <button class=\"colab-df-convert\" onclick=\"convertToInteractive('df-c0ad6c53-d4e5-413c-9ce4-0fe74567de94')\"\n",
              "              title=\"Convert this dataframe to an interactive table.\"\n",
              "              style=\"display:none;\">\n",
              "        \n",
              "  <svg xmlns=\"http://www.w3.org/2000/svg\" height=\"24px\"viewBox=\"0 0 24 24\"\n",
              "       width=\"24px\">\n",
              "    <path d=\"M0 0h24v24H0V0z\" fill=\"none\"/>\n",
              "    <path d=\"M18.56 5.44l.94 2.06.94-2.06 2.06-.94-2.06-.94-.94-2.06-.94 2.06-2.06.94zm-11 1L8.5 8.5l.94-2.06 2.06-.94-2.06-.94L8.5 2.5l-.94 2.06-2.06.94zm10 10l.94 2.06.94-2.06 2.06-.94-2.06-.94-.94-2.06-.94 2.06-2.06.94z\"/><path d=\"M17.41 7.96l-1.37-1.37c-.4-.4-.92-.59-1.43-.59-.52 0-1.04.2-1.43.59L10.3 9.45l-7.72 7.72c-.78.78-.78 2.05 0 2.83L4 21.41c.39.39.9.59 1.41.59.51 0 1.02-.2 1.41-.59l7.78-7.78 2.81-2.81c.8-.78.8-2.07 0-2.86zM5.41 20L4 18.59l7.72-7.72 1.47 1.35L5.41 20z\"/>\n",
              "  </svg>\n",
              "      </button>\n",
              "      \n",
              "  <style>\n",
              "    .colab-df-container {\n",
              "      display:flex;\n",
              "      flex-wrap:wrap;\n",
              "      gap: 12px;\n",
              "    }\n",
              "\n",
              "    .colab-df-convert {\n",
              "      background-color: #E8F0FE;\n",
              "      border: none;\n",
              "      border-radius: 50%;\n",
              "      cursor: pointer;\n",
              "      display: none;\n",
              "      fill: #1967D2;\n",
              "      height: 32px;\n",
              "      padding: 0 0 0 0;\n",
              "      width: 32px;\n",
              "    }\n",
              "\n",
              "    .colab-df-convert:hover {\n",
              "      background-color: #E2EBFA;\n",
              "      box-shadow: 0px 1px 2px rgba(60, 64, 67, 0.3), 0px 1px 3px 1px rgba(60, 64, 67, 0.15);\n",
              "      fill: #174EA6;\n",
              "    }\n",
              "\n",
              "    [theme=dark] .colab-df-convert {\n",
              "      background-color: #3B4455;\n",
              "      fill: #D2E3FC;\n",
              "    }\n",
              "\n",
              "    [theme=dark] .colab-df-convert:hover {\n",
              "      background-color: #434B5C;\n",
              "      box-shadow: 0px 1px 3px 1px rgba(0, 0, 0, 0.15);\n",
              "      filter: drop-shadow(0px 1px 2px rgba(0, 0, 0, 0.3));\n",
              "      fill: #FFFFFF;\n",
              "    }\n",
              "  </style>\n",
              "\n",
              "      <script>\n",
              "        const buttonEl =\n",
              "          document.querySelector('#df-c0ad6c53-d4e5-413c-9ce4-0fe74567de94 button.colab-df-convert');\n",
              "        buttonEl.style.display =\n",
              "          google.colab.kernel.accessAllowed ? 'block' : 'none';\n",
              "\n",
              "        async function convertToInteractive(key) {\n",
              "          const element = document.querySelector('#df-c0ad6c53-d4e5-413c-9ce4-0fe74567de94');\n",
              "          const dataTable =\n",
              "            await google.colab.kernel.invokeFunction('convertToInteractive',\n",
              "                                                     [key], {});\n",
              "          if (!dataTable) return;\n",
              "\n",
              "          const docLinkHtml = 'Like what you see? Visit the ' +\n",
              "            '<a target=\"_blank\" href=https://colab.research.google.com/notebooks/data_table.ipynb>data table notebook</a>'\n",
              "            + ' to learn more about interactive tables.';\n",
              "          element.innerHTML = '';\n",
              "          dataTable['output_type'] = 'display_data';\n",
              "          await google.colab.output.renderOutput(dataTable, element);\n",
              "          const docLink = document.createElement('div');\n",
              "          docLink.innerHTML = docLinkHtml;\n",
              "          element.appendChild(docLink);\n",
              "        }\n",
              "      </script>\n",
              "    </div>\n",
              "  </div>\n",
              "  "
            ],
            "text/plain": [
              "                                                Text Language\n",
              "0   Nature, in the broadest sense, is the natural...  English\n",
              "1  \"Nature\" can refer to the phenomena of the phy...  English\n",
              "2  The study of nature is a large, if not the onl...  English\n",
              "3  Although humans are part of nature, human acti...  English\n",
              "4  [1] The word nature is borrowed from the Old F...  English"
            ]
          },
          "execution_count": 3,
          "metadata": {},
          "output_type": "execute_result"
        }
      ],
      "source": [
        "df = pd.read_csv('Language Detection.csv')\n",
        "df.head()"
      ]
    },
    {
      "cell_type": "code",
      "execution_count": null,
      "metadata": {
        "id": "n3OMRhEtHrg1"
      },
      "outputs": [],
      "source": [
        "#removing all the punctuation from string and converting from UPPER case to lower case the string#it will remove punctuation from string  #it will convert from lower case\n",
        "def remove_pun(text):\n",
        "    for pun in string.punctuation:\n",
        "        text = text.replace(pun,\"\") \n",
        "        text = text.lower() \n",
        "        return (text)\n"
      ]
    },
    {
      "cell_type": "code",
      "execution_count": null,
      "metadata": {
        "id": "MeYel6RqJNW3"
      },
      "outputs": [],
      "source": [
        "df[ 'Text' ] =  df['Text'].apply(remove_pun)"
      ]
    },
    {
      "cell_type": "code",
      "execution_count": null,
      "metadata": {
        "id": "lSEWR0QsO6cn"
      },
      "outputs": [],
      "source": [
        "df.head()"
      ]
    },
    {
      "cell_type": "code",
      "execution_count": null,
      "metadata": {
        "id": "53krkvYHdAWT"
      },
      "outputs": [],
      "source": [
        "from sklearn.model_selection import train_test_split"
      ]
    },
    {
      "cell_type": "code",
      "execution_count": null,
      "metadata": {
        "id": "AyCnqpihdSWS"
      },
      "outputs": [],
      "source": [
        "X = df.iloc[:,0]\n",
        "y = df.iloc[:,1]"
      ]
    },
    {
      "cell_type": "code",
      "execution_count": null,
      "metadata": {
        "id": "ARBZRC8xdj3M"
      },
      "outputs": [],
      "source": [
        "X_train,X_test,y_train,y_test = train_test_split(X,y,test_size= .2)"
      ]
    },
    {
      "cell_type": "code",
      "execution_count": null,
      "metadata": {
        "colab": {
          "base_uri": "https://localhost:8080/"
        },
        "id": "dX4l6GvqeG19",
        "outputId": "89432715-8a88-4e73-87a9-77b38ea32b94"
      },
      "outputs": [
        {
          "data": {
            "text/plain": [
              "4473     in het algemeen maar het won ' het is erg gesc...\n",
              "4839     [nota 3]​ una buena parte de sus ediciones idi...\n",
              "8861                          vill du göra något i helgen?\n",
              "1041     i'm deluged with assignments smart word number...\n",
              "7076     min kære barn, du er så smuk og dejlig, men du...\n",
              "                               ...                        \n",
              "7519     ti darò le 50 migliori frasi inglesi che puoi ...\n",
              "1581     വിവരത്തെ പല വിഭാഗങ്ങളായ് വേർതിരിക്കുന്നത് ഈ തത...\n",
              "1564     ഈ മൂന്നു ഭാഷകൾ കഴിഞ്ഞാൽ വേറൊരു ഇന്ത്യൻ ഭാഷയിൽ ...\n",
              "5958     ξύπνησα ότι ήταν όλα χαμόγελα και γέλια εδώ γλ...\n",
              "10290    ಅವಳ ಸೌಂದರ್ಯವು ದೂರದವರೆಗೆ ತಿಳಿದಿದ್ದರಿಂದ ಆದರೆ ಅವಳ...\n",
              "Name: Text, Length: 8269, dtype: object"
            ]
          },
          "execution_count": 9,
          "metadata": {},
          "output_type": "execute_result"
        }
      ],
      "source": [
        "X_train"
      ]
    },
    {
      "cell_type": "code",
      "execution_count": null,
      "metadata": {
        "id": "KlNC4QcUletj"
      },
      "outputs": [],
      "source": [
        "from sklearn import feature_extraction"
      ]
    },
    {
      "cell_type": "code",
      "execution_count": null,
      "metadata": {
        "id": "WF1ZDmjHmT5p"
      },
      "outputs": [],
      "source": [
        "\n",
        "vec = feature_extraction.text.TfidfVectorizer(ngram_range=(1,2),analyzer='char')"
      ]
    },
    {
      "cell_type": "code",
      "execution_count": null,
      "metadata": {
        "id": "atC9WfnlmaUQ"
      },
      "outputs": [],
      "source": [
        "from sklearn import pipeline\n",
        "from sklearn import linear_model"
      ]
    },
    {
      "cell_type": "code",
      "execution_count": null,
      "metadata": {
        "id": "XhsLPYi-mmzl"
      },
      "outputs": [],
      "source": [
        "model_pipe = pipeline.Pipeline([('vec',vec),('clf',linear_model.LogisticRegression())])"
      ]
    },
    {
      "cell_type": "code",
      "execution_count": null,
      "metadata": {
        "colab": {
          "base_uri": "https://localhost:8080/"
        },
        "id": "_RJiQak7n2DF",
        "outputId": "428fde81-ee8b-444f-a18b-b1c87454f877"
      },
      "outputs": [
        {
          "data": {
            "text/plain": [
              "Pipeline(steps=[('vec', TfidfVectorizer(analyzer='char', ngram_range=(1, 2))),\n",
              "                ('clf', LogisticRegression())])"
            ]
          },
          "execution_count": 15,
          "metadata": {},
          "output_type": "execute_result"
        }
      ],
      "source": [
        "model_pipe.fit(X_train,y_train)"
      ]
    },
    {
      "cell_type": "code",
      "execution_count": null,
      "metadata": {
        "id": "nm3m83IVoSeN"
      },
      "outputs": [],
      "source": [
        "predict_val = model_pipe.predict(X_test)"
      ]
    },
    {
      "cell_type": "code",
      "execution_count": null,
      "metadata": {
        "id": "91AkAv6SpQxR"
      },
      "outputs": [],
      "source": [
        "from sklearn import metrics"
      ]
    },
    {
      "cell_type": "code",
      "execution_count": null,
      "metadata": {
        "colab": {
          "base_uri": "https://localhost:8080/"
        },
        "id": "Dvxnavb2pZTJ",
        "outputId": "e1eff57d-fc1f-48bf-ce75-173b753c9929"
      },
      "outputs": [
        {
          "data": {
            "text/plain": [
              "97.96905222437138"
            ]
          },
          "execution_count": 18,
          "metadata": {},
          "output_type": "execute_result"
        }
      ],
      "source": [
        "metrics.accuracy_score(y_test,predict_val)*100"
      ]
    },
    {
      "cell_type": "code",
      "execution_count": null,
      "metadata": {
        "colab": {
          "base_uri": "https://localhost:8080/"
        },
        "id": "mu--ih6Fp9Wd",
        "outputId": "8884517f-65e6-4652-9874-ffcbf9f3f5cf"
      },
      "outputs": [
        {
          "data": {
            "text/plain": [
              "array([[ 96,   0,   0,   0,   0,   0,   0,   0,   0,   0,   0,   0,   0,\n",
              "          0,   0,   0,   0],\n",
              "       [  0,  85,   1,   1,   1,   0,   0,   0,   0,   0,   0,   0,   0,\n",
              "          0,   4,   0,   0],\n",
              "       [  0,   1, 120,   2,   0,   2,   0,   0,   0,   0,   0,   1,   0,\n",
              "          1,   0,   0,   0],\n",
              "       [  0,   0,   0, 260,   0,   0,   0,   0,   1,   0,   0,   0,   0,\n",
              "          0,   0,   0,   0],\n",
              "       [  0,   0,   1,   1, 210,   2,   0,   0,   1,   0,   0,   0,   0,\n",
              "          0,   0,   0,   0],\n",
              "       [  0,   1,   2,   0,   0,  87,   0,   0,   0,   0,   0,   0,   0,\n",
              "          0,   0,   0,   0],\n",
              "       [  0,   0,   0,   0,   0,   0,  68,   0,   0,   0,   0,   0,   0,\n",
              "          0,   0,   0,   0],\n",
              "       [  0,   0,   0,   0,   0,   0,   0,  14,   0,   0,   0,   0,   0,\n",
              "          0,   0,   0,   0],\n",
              "       [  0,   0,   0,   0,   0,   0,   0,   0, 113,   0,   0,   2,   0,\n",
              "          5,   0,   0,   0],\n",
              "       [  0,   0,   0,   0,   0,   0,   0,   0,   0,  74,   0,   0,   0,\n",
              "          0,   0,   0,   0],\n",
              "       [  0,   0,   0,   0,   0,   0,   0,   0,   0,   0, 118,   0,   0,\n",
              "          0,   0,   0,   0],\n",
              "       [  0,   0,   0,   0,   0,   0,   0,   0,   1,   0,   0, 153,   0,\n",
              "          0,   0,   0,   0],\n",
              "       [  0,   0,   0,   0,   0,   0,   0,   0,   0,   0,   0,   0, 130,\n",
              "          0,   0,   0,   0],\n",
              "       [  0,   0,   0,   0,   0,   1,   0,   0,   4,   0,   0,   2,   0,\n",
              "        164,   1,   0,   0],\n",
              "       [  0,   2,   0,   0,   0,   0,   0,   0,   0,   0,   0,   0,   0,\n",
              "          0, 157,   0,   0],\n",
              "       [  0,   0,   0,   0,   0,   0,   0,   0,   0,   0,   0,   0,   0,\n",
              "          0,   0,  74,   0],\n",
              "       [  0,   0,   0,   0,   0,   0,   0,   0,   0,   0,   0,   1,   0,\n",
              "          0,   0,   0, 103]])"
            ]
          },
          "execution_count": 19,
          "metadata": {},
          "output_type": "execute_result"
        }
      ],
      "source": [
        "metrics.confusion_matrix(y_test,predict_val)"
      ]
    },
    {
      "cell_type": "code",
      "execution_count": null,
      "metadata": {
        "colab": {
          "base_uri": "https://localhost:8080/"
        },
        "id": "tLJfFcToqK1u",
        "outputId": "7f88b7e6-c28b-48eb-f22c-0cce8d2a1acb"
      },
      "outputs": [
        {
          "data": {
            "text/plain": [
              "array(['Danish'], dtype=object)"
            ]
          },
          "execution_count": 20,
          "metadata": {},
          "output_type": "execute_result"
        }
      ],
      "source": [
        "model_pipe.predict([' તમે જાણો છો કે જે વાક્ય કર્તા ધરાવે તે કર્તરિ, પણ વાક્યમાં કર્તા છે એવું શી'])"
      ]
    },
    {
      "cell_type": "code",
      "execution_count": null,
      "metadata": {
        "id": "2WlQ6Zg7A_Zm"
      },
      "outputs": [],
      "source": [
        "import pickle"
      ]
    },
    {
      "cell_type": "code",
      "execution_count": null,
      "metadata": {
        "id": "nQXmZH7mBDPp"
      },
      "outputs": [],
      "source": [
        "new_file=open('model.pckl','wb')\n",
        "pickle.dump(model_pipe,new_file)\n",
        "new_file.close()"
      ]
    },
    {
      "cell_type": "code",
      "execution_count": null,
      "metadata": {
        "id": "A0ykDhSEBllX"
      },
      "outputs": [],
      "source": [
        "import os"
      ]
    },
    {
      "cell_type": "code",
      "execution_count": null,
      "metadata": {
        "colab": {
          "base_uri": "https://localhost:8080/"
        },
        "id": "qNHU4vkKBofN",
        "outputId": "512284c2-f75f-4924-e65b-84967d6bf297"
      },
      "outputs": [
        {
          "data": {
            "text/plain": [
              "['.config', 'drive', 'Language Detection.csv', 'model.pckl', 'sample_data']"
            ]
          },
          "execution_count": 24,
          "metadata": {},
          "output_type": "execute_result"
        }
      ],
      "source": [
        "os.listdir()"
      ]
    },
    {
      "cell_type": "code",
      "execution_count": null,
      "metadata": {
        "colab": {
          "base_uri": "https://localhost:8080/"
        },
        "id": "sH-khCldGvId",
        "outputId": "72795236-ad0d-4914-bbe1-b43a94ab8a52"
      },
      "outputs": [
        {
          "name": "stdout",
          "output_type": "stream",
          "text": [
            "\u001b[K     |████████████████████████████████| 9.1 MB 15.4 MB/s \n",
            "\u001b[K     |████████████████████████████████| 235 kB 60.8 MB/s \n",
            "\u001b[K     |████████████████████████████████| 164 kB 56.5 MB/s \n",
            "\u001b[K     |████████████████████████████████| 78 kB 6.8 MB/s \n",
            "\u001b[K     |████████████████████████████████| 4.7 MB 56.3 MB/s \n",
            "\u001b[K     |████████████████████████████████| 181 kB 74.1 MB/s \n",
            "\u001b[K     |████████████████████████████████| 63 kB 1.7 MB/s \n",
            "\u001b[K     |████████████████████████████████| 51 kB 7.8 MB/s \n",
            "\u001b[?25h  Building wheel for validators (setup.py) ... \u001b[?25l\u001b[?25hdone\n"
          ]
        }
      ],
      "source": [
        "! pip install streamlit -q"
      ]
    },
    {
      "cell_type": "code",
      "execution_count": null,
      "metadata": {
        "colab": {
          "base_uri": "https://localhost:8080/"
        },
        "id": "4nbHVXGfHD1e",
        "outputId": "95dd41cb-132b-4053-c8db-ce71b5d29851"
      },
      "outputs": [
        {
          "name": "stdout",
          "output_type": "stream",
          "text": [
            "Writing app.py\n"
          ]
        }
      ],
      "source": [
        "%%writefile app.py\n",
        "\n",
        "import pickle\n",
        "import string\n",
        "import streamlit as st\n",
        "import webbrowser\n",
        "\n",
        "global Lrdetect_Model\n",
        "\n",
        "LrdetectFile = open('model.pckl','rb')\n",
        "Lrdetect_Model = pickle.load(LrdetectFile)\n",
        "LrdetectFile.close()\n",
        "st.title(\"Language Detection Tool\")\n",
        "input_test = st.text_input(\"provide your text input here\", 'Hello my name is raja ')\n",
        "\n",
        "button_clicked = st.button(\"Get Language Name\")\n",
        "if button_clicked:\n",
        "\tst.text(Lrdetect_Model.predict([input_test]))"
      ]
    },
    {
      "cell_type": "code",
      "execution_count": null,
      "metadata": {
        "colab": {
          "background_save": true,
          "base_uri": "https://localhost:8080/"
        },
        "id": "rbzZhqVTHSQ3",
        "outputId": "11306201-1b65-4919-82a0-a3253cb11b30"
      },
      "outputs": [
        {
          "name": "stdout",
          "output_type": "stream",
          "text": [
            "2022-08-31 15:47:16.540 INFO    numexpr.utils: NumExpr defaulting to 2 threads.\n",
            "\u001b[K\u001b[?25hnpx: installed 22 in 6.26s\n",
            "your url is: https://tough-trams-tan-34-91-132-202.loca.lt\n",
            "\u001b[0m\n",
            "\u001b[34m\u001b[1m  You can now view your Streamlit app in your browser.\u001b[0m\n",
            "\u001b[0m\n",
            "\u001b[34m  Network URL: \u001b[0m\u001b[1mhttp://172.28.0.2:8501\u001b[0m\n",
            "\u001b[34m  External URL: \u001b[0m\u001b[1mhttp://34.91.132.202:8501\u001b[0m\n",
            "\u001b[0m\n"
          ]
        }
      ],
      "source": [
        "!streamlit run app.py & npx localtunnel --port 8501"
      ]
    }
  ],
  "metadata": {
    "colab": {
      "provenance": [],
      "mount_file_id": "1GKKsoJE4rVmckj1hjeQr-GggLou9LPhc",
      "authorship_tag": "ABX9TyOmiUDdPx9vRocCZ90lRTCZ",
      "include_colab_link": true
    },
    "kernelspec": {
      "display_name": "Python 3",
      "name": "python3"
    },
    "language_info": {
      "name": "python"
    }
  },
  "nbformat": 4,
  "nbformat_minor": 0
}